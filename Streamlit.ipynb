{
 "cells": [
  {
   "cell_type": "code",
   "execution_count": 8,
   "id": "852eb1eb-56cd-4c13-842c-a3ad3a7b1881",
   "metadata": {},
   "outputs": [],
   "source": [
    "import streamlit as st\n",
    "from tensorflow.keras.models import load_model\n",
    "from tensorflow.keras.preprocessing.image import img_to_array\n",
    "from PIL import Image\n",
    "import numpy as np"
   ]
  },
  {
   "cell_type": "code",
   "execution_count": 9,
   "id": "a2f32212-f0ec-4c34-8e00-8e8b4c3ddd40",
   "metadata": {},
   "outputs": [],
   "source": [
    "model = load_model('xception_v6_1_12_0.834.h5')"
   ]
  },
  {
   "cell_type": "code",
   "execution_count": 10,
   "id": "48675701-3ded-4ddc-9b80-80aeeaf0217d",
   "metadata": {},
   "outputs": [],
   "source": [
    "def predict_image(image):\n",
    "    img = image.resize((299, 299))\n",
    "    x = np.array(img)\n",
    "    X = np.array([x])\n",
    "    X.shape\n",
    "\n",
    "    X = preprocess_input(X)\n",
    "    pred = model.predict(X)\n",
    "    result = list(zip(class_names, pred[0]))\n",
    "    max_result = max(result, key=lambda x:x[1])\n",
    "\n",
    "    return max_result"
   ]
  },
  {
   "cell_type": "code",
   "execution_count": 11,
   "id": "b6bf5ae4-d3b7-4cb4-99bd-310229a2b524",
   "metadata": {},
   "outputs": [],
   "source": [
    "st.title(\"Sea Animal Classification\")\n",
    "st.write(\"Upload an image of a sea animal and the model will predict its class.\")"
   ]
  },
  {
   "cell_type": "code",
   "execution_count": 12,
   "id": "757ea30c-deb4-4c06-bcf4-8acb52e3ebc4",
   "metadata": {},
   "outputs": [],
   "source": [
    "uploaded_file = st.file_uploader(\"Choose an image...\", type=[\"jpg\", \"jpeg\", \"png\"])"
   ]
  },
  {
   "cell_type": "code",
   "execution_count": 13,
   "id": "a709c6e1-69fe-4ee1-9b84-dbc3f7bd0f6d",
   "metadata": {},
   "outputs": [],
   "source": [
    "if uploaded_file is not None:\n",
    "    image = Image.open(uploaded_file)\n",
    "    st.image(image, caption='Uploaded Image.', use_column_width=True)\n",
    "    st.write(\"\")\n",
    "    st.write(\"Classifying...\")\n",
    "       \n",
    "    class_names = [  'Clams',\n",
    "                     'Corals',\n",
    "                     'Crabs',\n",
    "                     'Dolphin',\n",
    "                     'Eel',\n",
    "                     'Fish',\n",
    "                     'Jelly Fish',\n",
    "                     'Lobster',\n",
    "                     'Nudibranchs',\n",
    "                     'Octopus',\n",
    "                     'Otter',\n",
    "                     'Penguin',\n",
    "                     'Puffers',\n",
    "                     'Sea Rays',\n",
    "                     'Sea Urchins',\n",
    "                     'Seahorse',\n",
    "                     'Seal',\n",
    "                     'Sharks',\n",
    "                     'Shrimp',\n",
    "                     'Squid',\n",
    "                     'Starfish',\n",
    "                     'Turtle_Tortoise',\n",
    "                     'Whale']  # Replace with your actual class names\n",
    "    label, confidence = predict_image(image)\n",
    "    st.write(f\"Prediction: {class_names[label]}\")\n",
    "    st.write(f\"Confidence: {confidence:.2f}\")"
   ]
  },
  {
   "cell_type": "code",
   "execution_count": null,
   "id": "b638f1b7-498f-44ad-9942-d613e3d03733",
   "metadata": {},
   "outputs": [],
   "source": []
  },
  {
   "cell_type": "code",
   "execution_count": null,
   "id": "aa3b2139-25c9-4f2f-a53a-1a5cb713789a",
   "metadata": {},
   "outputs": [],
   "source": []
  }
 ],
 "metadata": {
  "kernelspec": {
   "display_name": "Python 3 (ipykernel)",
   "language": "python",
   "name": "python3"
  },
  "language_info": {
   "codemirror_mode": {
    "name": "ipython",
    "version": 3
   },
   "file_extension": ".py",
   "mimetype": "text/x-python",
   "name": "python",
   "nbconvert_exporter": "python",
   "pygments_lexer": "ipython3",
   "version": "3.10.14"
  }
 },
 "nbformat": 4,
 "nbformat_minor": 5
}
